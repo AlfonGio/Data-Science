{
  "nbformat": 4,
  "nbformat_minor": 0,
  "metadata": {
    "kernelspec": {
      "display_name": "Python 3",
      "language": "python",
      "name": "python3"
    },
    "language_info": {
      "codemirror_mode": {
        "name": "ipython",
        "version": 3
      },
      "file_extension": ".py",
      "mimetype": "text/x-python",
      "name": "python",
      "nbconvert_exporter": "python",
      "pygments_lexer": "ipython3",
      "version": "3.9.9"
    },
    "colab": {
      "name": "notebook.ipynb",
      "provenance": []
    }
  },
  "cells": [
    {
      "cell_type": "markdown",
      "metadata": {
        "dc": {
          "key": "3"
        },
        "deletable": false,
        "editable": false,
        "run_control": {
          "frozen": true
        },
        "tags": [
          "context"
        ],
        "id": "qne58OYg3ftz"
      },
      "source": [
        "## 1. The raw data files and their format\n",
        "<p><img src=\"https://assets.datacamp.com/production/project_462/img/car-accident.jpg\" alt></p>\n",
        "<p>While the rate of fatal road accidents has been decreasing steadily since the 80s, the past ten years have seen a stagnation in this reduction. Coupled with the increase in number of miles driven in the nation, the total number of traffic related-fatalities has now reached a ten year high and is rapidly increasing.</p>\n",
        "<p>Per request of the US Department of Transportation, we are currently investigating how to derive a strategy to reduce the incidence of road accidents across the nation. By looking at the demographics of traﬃc accident victims for each US state, we find that there is a lot of variation between states. Now we want to understand if there are patterns in this variation in order to derive suggestions for a policy action plan. In particular, instead of implementing a costly nation-wide plan we want to focus on groups of  states with similar profiles. How can we find such groups in a statistically sound way and communicate the result effectively?</p>\n",
        "<p>To accomplish these tasks, we will make use of data wrangling, plotting, dimensionality reduction, and unsupervised clustering.</p>\n",
        "<p>The data given to us was originally collected by the National Highway Traffic Safety Administration and the National Association of Insurance Commissioners. This particular dataset was compiled and released as a <a href=\"https://github.com/fivethirtyeight/data/tree/master/bad-drivers\">CSV-file</a> by FiveThirtyEight under the <a href=\"https://github.com/ﬁvethirtyeight/data\">CC-BY4.0 license</a>.</p>"
      ]
    },
    {
      "cell_type": "code",
      "metadata": {
        "dc": {
          "key": "3"
        },
        "tags": [
          "sample_code"
        ],
        "trusted": true,
        "colab": {
          "base_uri": "https://localhost:8080/"
        },
        "id": "LPiQpLRq3ft2",
        "outputId": "708a54a3-a06d-42f8-fb3c-210b6f831ccf"
      },
      "source": [
        "# Check the name of the current directory\n",
        "current_dir = !pwd\n",
        "print(current_dir)\n",
        "\n",
        "# List all files in this directory\n",
        "file_list = !ls\n",
        "print(file_list)\n",
        "\n",
        "# List all files in the datasets directory\n",
        "# dataset_list = !ls datasets\n",
        "# print(dataset_list)\n",
        "\n",
        "# View the first 20 lines of datasets/road-accidents.csv\n",
        "# accidents_head = !head -n 20 datasets/road-accidents.csv\n",
        "accidents_head = !head -n 20 road-accidents.csv\n",
        "accidents_head"
      ],
      "execution_count": 19,
      "outputs": [
        {
          "output_type": "stream",
          "name": "stdout",
          "text": [
            "['/content']\n",
            "['miles-driven.csv  road-accidents.csv  sample_data']\n"
          ]
        },
        {
          "output_type": "execute_result",
          "data": {
            "text/plain": [
              "['state|drvr_fatl_col_bmiles|perc_fatl_speed|perc_fatl_alcohol|perc_fatl_1st_time',\n",
              " 'Alabama|18.8|39|30|80',\n",
              " 'Alaska|18.1|41|25|94',\n",
              " 'Arizona|18.6|35|28|96',\n",
              " 'Arkansas|22.4|18|26|95',\n",
              " 'California|12|35|28|89',\n",
              " 'Colorado|13.6|37|28|95',\n",
              " 'Connecticut|10.8|46|36|82',\n",
              " 'Delaware|16.2|38|30|99',\n",
              " 'District of Columbia|5.9|34|27|100',\n",
              " 'Florida|17.9|21|29|94',\n",
              " 'Georgia|15.6|19|25|93',\n",
              " 'Hawaii|17.5|54|41|87',\n",
              " 'Idaho|15.3|36|29|98',\n",
              " 'Illinois|12.8|36|34|96',\n",
              " 'Indiana|14.5|25|29|95',\n",
              " 'Iowa|15.7|17|25|87',\n",
              " 'Kansas|17.8|27|24|85',\n",
              " 'Kentucky|21.4|19|23|76',\n",
              " 'Louisiana|20.5|35|33|98']"
            ]
          },
          "metadata": {},
          "execution_count": 19
        }
      ]
    },
    {
      "cell_type": "markdown",
      "metadata": {
        "dc": {
          "key": "10"
        },
        "deletable": false,
        "editable": false,
        "run_control": {
          "frozen": true
        },
        "tags": [
          "context"
        ],
        "id": "FqUfxEbB3ft3"
      },
      "source": [
        "## 2. Read in and get an overview of the data\n",
        "<p>Next, we will orient ourselves to get to know the data with which we are dealing.</p>"
      ]
    },
    {
      "cell_type": "code",
      "metadata": {
        "dc": {
          "key": "10"
        },
        "tags": [
          "sample_code"
        ],
        "trusted": true,
        "colab": {
          "base_uri": "https://localhost:8080/",
          "height": 459
        },
        "id": "UOCkYblK3ft4",
        "outputId": "30ebcecd-19d8-4f4c-8d39-7425ca3a4800"
      },
      "source": [
        "# Import the `pandas` module as \"pd\"\n",
        "import pandas as pd\n",
        "\n",
        "# Read in `road-accidents.csv`\n",
        "car_acc = pd.read_csv('road-accidents.csv', sep='|')\n",
        "\n",
        "# Save the number of rows columns as a tuple\n",
        "rows_and_cols = car_acc.shape\n",
        "print('There are {} rows and {} columns.\\n'.format(\n",
        "    rows_and_cols[0], rows_and_cols[1]))\n",
        "\n",
        "# Generate an overview of the DataFrame\n",
        "car_acc_information = car_acc.info()\n",
        "print(car_acc_information)\n",
        "\n",
        "# Display the last five rows of the DataFrame\n",
        "car_acc.tail()"
      ],
      "execution_count": 20,
      "outputs": [
        {
          "output_type": "stream",
          "name": "stdout",
          "text": [
            "There are 51 rows and 5 columns.\n",
            "\n",
            "<class 'pandas.core.frame.DataFrame'>\n",
            "RangeIndex: 51 entries, 0 to 50\n",
            "Data columns (total 5 columns):\n",
            " #   Column                Non-Null Count  Dtype  \n",
            "---  ------                --------------  -----  \n",
            " 0   state                 51 non-null     object \n",
            " 1   drvr_fatl_col_bmiles  51 non-null     float64\n",
            " 2   perc_fatl_speed       51 non-null     int64  \n",
            " 3   perc_fatl_alcohol     51 non-null     int64  \n",
            " 4   perc_fatl_1st_time    51 non-null     int64  \n",
            "dtypes: float64(1), int64(3), object(1)\n",
            "memory usage: 2.1+ KB\n",
            "None\n"
          ]
        },
        {
          "output_type": "execute_result",
          "data": {
            "text/html": [
              "<div>\n",
              "<style scoped>\n",
              "    .dataframe tbody tr th:only-of-type {\n",
              "        vertical-align: middle;\n",
              "    }\n",
              "\n",
              "    .dataframe tbody tr th {\n",
              "        vertical-align: top;\n",
              "    }\n",
              "\n",
              "    .dataframe thead th {\n",
              "        text-align: right;\n",
              "    }\n",
              "</style>\n",
              "<table border=\"1\" class=\"dataframe\">\n",
              "  <thead>\n",
              "    <tr style=\"text-align: right;\">\n",
              "      <th></th>\n",
              "      <th>state</th>\n",
              "      <th>drvr_fatl_col_bmiles</th>\n",
              "      <th>perc_fatl_speed</th>\n",
              "      <th>perc_fatl_alcohol</th>\n",
              "      <th>perc_fatl_1st_time</th>\n",
              "    </tr>\n",
              "  </thead>\n",
              "  <tbody>\n",
              "    <tr>\n",
              "      <th>46</th>\n",
              "      <td>Virginia</td>\n",
              "      <td>12.7</td>\n",
              "      <td>19</td>\n",
              "      <td>27</td>\n",
              "      <td>88</td>\n",
              "    </tr>\n",
              "    <tr>\n",
              "      <th>47</th>\n",
              "      <td>Washington</td>\n",
              "      <td>10.6</td>\n",
              "      <td>42</td>\n",
              "      <td>33</td>\n",
              "      <td>86</td>\n",
              "    </tr>\n",
              "    <tr>\n",
              "      <th>48</th>\n",
              "      <td>West Virginia</td>\n",
              "      <td>23.8</td>\n",
              "      <td>34</td>\n",
              "      <td>28</td>\n",
              "      <td>87</td>\n",
              "    </tr>\n",
              "    <tr>\n",
              "      <th>49</th>\n",
              "      <td>Wisconsin</td>\n",
              "      <td>13.8</td>\n",
              "      <td>36</td>\n",
              "      <td>33</td>\n",
              "      <td>84</td>\n",
              "    </tr>\n",
              "    <tr>\n",
              "      <th>50</th>\n",
              "      <td>Wyoming</td>\n",
              "      <td>17.4</td>\n",
              "      <td>42</td>\n",
              "      <td>32</td>\n",
              "      <td>90</td>\n",
              "    </tr>\n",
              "  </tbody>\n",
              "</table>\n",
              "</div>"
            ],
            "text/plain": [
              "            state  drvr_fatl_col_bmiles  ...  perc_fatl_alcohol  perc_fatl_1st_time\n",
              "46       Virginia                  12.7  ...                 27                  88\n",
              "47     Washington                  10.6  ...                 33                  86\n",
              "48  West Virginia                  23.8  ...                 28                  87\n",
              "49      Wisconsin                  13.8  ...                 33                  84\n",
              "50        Wyoming                  17.4  ...                 32                  90\n",
              "\n",
              "[5 rows x 5 columns]"
            ]
          },
          "metadata": {},
          "execution_count": 20
        }
      ]
    },
    {
      "cell_type": "markdown",
      "metadata": {
        "dc": {
          "key": "17"
        },
        "deletable": false,
        "editable": false,
        "run_control": {
          "frozen": true
        },
        "tags": [
          "context"
        ],
        "id": "LXDm_Qay3ft4"
      },
      "source": [
        "## 3. Create a textual and a graphical summary of the data\n",
        "<p>We now have an idea of what the dataset looks like. To further familiarize ourselves with this data, we will calculate summary statistics and produce a graphical overview of the data. The graphical overview is good to get a sense for the distribution of variables within the data and could consist of one histogram per column. It is often a good idea to also explore the pairwise relationship between all columns in the data set by using a using pairwise scatter plots (sometimes referred to as a \"scatterplot matrix\").</p>"
      ]
    },
    {
      "cell_type": "code",
      "metadata": {
        "dc": {
          "key": "17"
        },
        "tags": [
          "sample_code"
        ],
        "trusted": true,
        "colab": {
          "base_uri": "https://localhost:8080/",
          "height": 930
        },
        "id": "QK2w9T7m3ft5",
        "outputId": "c08257fd-961f-43aa-e931-9fdd17f33009"
      },
      "source": [
        "# import seaborn and make plots appear inline\n",
        "import seaborn as sns\n",
        "%matplotlib inline\n",
        "\n",
        "# Compute the summary statistics of all columns in the `car_acc` DataFrame\n",
        "sum_stat_car = car_acc.describe()\n",
        "print(sum_stat_car)\n",
        "\n",
        "# Create a pairwise scatter plot to explore the data\n",
        "sns.pairplot(car_acc)"
      ],
      "execution_count": 21,
      "outputs": [
        {
          "output_type": "stream",
          "name": "stdout",
          "text": [
            "       drvr_fatl_col_bmiles  ...  perc_fatl_1st_time\n",
            "count             51.000000  ...            51.00000\n",
            "mean              15.790196  ...            88.72549\n",
            "std                4.122002  ...             6.96011\n",
            "min                5.900000  ...            76.00000\n",
            "25%               12.750000  ...            83.50000\n",
            "50%               15.600000  ...            88.00000\n",
            "75%               18.500000  ...            95.00000\n",
            "max               23.900000  ...           100.00000\n",
            "\n",
            "[8 rows x 4 columns]\n"
          ]
        },
        {
          "output_type": "execute_result",
          "data": {
            "text/plain": [
              "<seaborn.axisgrid.PairGrid at 0x7fd9f450cfd0>"
            ]
          },
          "metadata": {},
          "execution_count": 21
        },
        {
          "output_type": "display_data",
          "data": {
            "image/png": "[encoded data removed]",
            "text/plain": [
              "<Figure size 720x720 with 20 Axes>"
            ]
          },
          "metadata": {
            "needs_background": "light"
          }
        }
      ]
    },
    {
      "cell_type": "markdown",
      "metadata": {
        "dc": {
          "key": "24"
        },
        "deletable": false,
        "editable": false,
        "run_control": {
          "frozen": true
        },
        "tags": [
          "context"
        ],
        "id": "rPdGgNxp3ft5"
      },
      "source": [
        "## 4. Quantify the association of features and accidents\n",
        "<p>We can already see some potentially interesting relationships between the target variable (the number of fatal accidents) and the feature variables (the remaining three columns).</p>\n",
        "<p>To quantify the pairwise relationships that we observed in the scatter plots, we can compute the Pearson correlation coefficient matrix. The Pearson correlation coefficient is one of the most common methods to quantify correlation between variables, and by convention, the following thresholds are usually used:</p>\n",
        "<ul>\n",
        "<li>0.2 = weak</li>\n",
        "<li>0.5 = medium</li>\n",
        "<li>0.8 = strong</li>\n",
        "<li>0.9 = very strong</li>\n",
        "</ul>"
      ]
    },
    {
      "cell_type": "code",
      "metadata": {
        "dc": {
          "key": "24"
        },
        "tags": [
          "sample_code"
        ],
        "trusted": true,
        "colab": {
          "base_uri": "https://localhost:8080/",
          "height": 173
        },
        "id": "NN-wbIad3ft6",
        "outputId": "145ae3d4-65c3-48dc-ab03-e43baa0992bd"
      },
      "source": [
        "# Compute the correlation coefficent for all column pairs\n",
        "corr_columns = car_acc.corr(method='pearson')\n",
        "corr_columns"
      ],
      "execution_count": 22,
      "outputs": [
        {
          "output_type": "execute_result",
          "data": {
            "text/html": [
              "<div>\n",
              "<style scoped>\n",
              "    .dataframe tbody tr th:only-of-type {\n",
              "        vertical-align: middle;\n",
              "    }\n",
              "\n",
              "    .dataframe tbody tr th {\n",
              "        vertical-align: top;\n",
              "    }\n",
              "\n",
              "    .dataframe thead th {\n",
              "        text-align: right;\n",
              "    }\n",
              "</style>\n",
              "<table border=\"1\" class=\"dataframe\">\n",
              "  <thead>\n",
              "    <tr style=\"text-align: right;\">\n",
              "      <th></th>\n",
              "      <th>drvr_fatl_col_bmiles</th>\n",
              "      <th>perc_fatl_speed</th>\n",
              "      <th>perc_fatl_alcohol</th>\n",
              "      <th>perc_fatl_1st_time</th>\n",
              "    </tr>\n",
              "  </thead>\n",
              "  <tbody>\n",
              "    <tr>\n",
              "      <th>drvr_fatl_col_bmiles</th>\n",
              "      <td>1.000000</td>\n",
              "      <td>-0.029080</td>\n",
              "      <td>0.199426</td>\n",
              "      <td>-0.017942</td>\n",
              "    </tr>\n",
              "    <tr>\n",
              "      <th>perc_fatl_speed</th>\n",
              "      <td>-0.029080</td>\n",
              "      <td>1.000000</td>\n",
              "      <td>0.286244</td>\n",
              "      <td>0.014066</td>\n",
              "    </tr>\n",
              "    <tr>\n",
              "      <th>perc_fatl_alcohol</th>\n",
              "      <td>0.199426</td>\n",
              "      <td>0.286244</td>\n",
              "      <td>1.000000</td>\n",
              "      <td>-0.245455</td>\n",
              "    </tr>\n",
              "    <tr>\n",
              "      <th>perc_fatl_1st_time</th>\n",
              "      <td>-0.017942</td>\n",
              "      <td>0.014066</td>\n",
              "      <td>-0.245455</td>\n",
              "      <td>1.000000</td>\n",
              "    </tr>\n",
              "  </tbody>\n",
              "</table>\n",
              "</div>"
            ],
            "text/plain": [
              "                      drvr_fatl_col_bmiles  ...  perc_fatl_1st_time\n",
              "drvr_fatl_col_bmiles              1.000000  ...           -0.017942\n",
              "perc_fatl_speed                  -0.029080  ...            0.014066\n",
              "perc_fatl_alcohol                 0.199426  ...           -0.245455\n",
              "perc_fatl_1st_time               -0.017942  ...            1.000000\n",
              "\n",
              "[4 rows x 4 columns]"
            ]
          },
          "metadata": {},
          "execution_count": 22
        }
      ]
    },
    {
      "cell_type": "markdown",
      "metadata": {
        "dc": {
          "key": "31"
        },
        "deletable": false,
        "editable": false,
        "run_control": {
          "frozen": true
        },
        "tags": [
          "context"
        ],
        "id": "UEDbfQvf3ft6"
      },
      "source": [
        "## 5. Fit a multivariate linear regression\n",
        "<p>From the correlation table, we see that the amount of fatal accidents is most strongly correlated with alcohol consumption (first row). But in addition, we also see that some of the features are correlated with each other, for instance, speeding and alcohol consumption are positively correlated. We, therefore, want to compute the association of the target with each feature while adjusting for the effect of the remaining features. This can be done using multivariate linear regression.</p>\n",
        "<p>Both the multivariate regression and the correlation measure how strongly the features are associated with the outcome (fatal accidents). When comparing the regression coefficients with the correlation coefficients, we will see that they are slightly different. The reason for this is that the multiple regression computes the association of a feature with an outcome, given the association with all other features, which is not accounted for when calculating the correlation coefficients.</p>\n",
        "<p>A particularly interesting case is when the correlation coefficient and the regression coefficient of the same feature have opposite signs. How can this be? For example, when a feature A is positively correlated with the outcome Y but also positively correlated with a different feature B that has a negative effect on Y, then the indirect correlation (A-&gt;B-&gt;Y) can overwhelm the direct correlation (A-&gt;Y). In such a case, the regression coefficient of feature A could be positive, while the correlation coefficient is negative. This is sometimes called a <em>masking</em> relationship. Let’s see if the multivariate regression can reveal such a phenomenon.</p>"
      ]
    },
    {
      "cell_type": "markdown",
      "metadata": {
        "id": "3GvyGyjp3ft7"
      },
      "source": [
        "**HINT!**\n",
        "\n",
        "The features DataFrame should contain the following columns ```'perc_fatl_speed', 'perc_fatl_alcohol', 'perc_fatl_1st_time'```. These columns need to be passed as a list to subset the original DataFrame.\n",
        "\n",
        "The 'target' DataFrame should contain the ```'drvr_fatl_col_bmiles'``` column.\n",
        "\n",
        "To see the help documentation for how to fit the regression, use ```fit.reg```?. Remember that the X parameter corresponds to the features and the y parameter is the target variable."
      ]
    },
    {
      "cell_type": "code",
      "metadata": {
        "colab": {
          "base_uri": "https://localhost:8080/"
        },
        "id": "Bq9eKZuc-r9I",
        "outputId": "ad7a2fcb-7c77-4549-d71f-507d88a168a9"
      },
      "source": [
        "car_acc.columns"
      ],
      "execution_count": 23,
      "outputs": [
        {
          "output_type": "execute_result",
          "data": {
            "text/plain": [
              "Index(['state', 'drvr_fatl_col_bmiles', 'perc_fatl_speed', 'perc_fatl_alcohol',\n",
              "       'perc_fatl_1st_time'],\n",
              "      dtype='object')"
            ]
          },
          "metadata": {},
          "execution_count": 23
        }
      ]
    },
    {
      "cell_type": "code",
      "metadata": {
        "dc": {
          "key": "31"
        },
        "tags": [
          "sample_code"
        ],
        "trusted": true,
        "colab": {
          "base_uri": "https://localhost:8080/"
        },
        "id": "SBQx4kfr3ft7",
        "outputId": "0a34f0c2-41e8-4853-bac5-b53b05057dd7"
      },
      "source": [
        "# Import the linear model function from sklearn\n",
        "from sklearn import linear_model\n",
        "\n",
        "# Create the features and target DataFrames\n",
        "features = car_acc.drop(['state','drvr_fatl_col_bmiles'], axis=1)\n",
        "target = car_acc.drvr_fatl_col_bmiles\n",
        "\n",
        "# Create a linear regression object\n",
        "reg = linear_model.LinearRegression()\n",
        "\n",
        "# Fit a multivariate linear regression model\n",
        "reg.fit(features, target)\n",
        "\n",
        "# Retrieve the regression coefficients\n",
        "fit_coef = reg.coef_\n",
        "fit_coef"
      ],
      "execution_count": 24,
      "outputs": [
        {
          "output_type": "execute_result",
          "data": {
            "text/plain": [
              "array([-0.04180041,  0.19086404,  0.02473301])"
            ]
          },
          "metadata": {},
          "execution_count": 24
        }
      ]
    },
    {
      "cell_type": "markdown",
      "metadata": {
        "dc": {
          "key": "38"
        },
        "deletable": false,
        "editable": false,
        "run_control": {
          "frozen": true
        },
        "tags": [
          "context"
        ],
        "id": "xeD2j3EL3ft8"
      },
      "source": [
        "## 6. Perform PCA on standardized data\n",
        "<p>We have learned that alcohol consumption is weakly associated with the number of fatal accidents across states. This could lead us to conclude that alcohol consumption should be a focus for further investigations and maybe strategies should divide states into high versus low alcohol consumption in accidents. But there are also associations between  alcohol consumptions and the other two features, so it might be worth trying to split the states in a way that accounts for all three features.</p>\n",
        "<p>One way of clustering the data is to use PCA to visualize data in reduced dimensional space where we can try to pick up patterns by eye. PCA uses the absolute variance to calculate the overall variance explained for each principal component, so it is important that the features are on a similar scale (unless we would have a particular reason that one feature should be weighted more).</p>\n",
        "<p>We'll use the appropriate scaling function to standardize the features to be centered with mean 0 and scaled with standard deviation 1.</p>"
      ]
    },
    {
      "cell_type": "markdown",
      "metadata": {
        "id": "McZdI3WP3ft9"
      },
      "source": [
        "**HINT!**\n",
        "\n",
        "To standardize the features, the features DataFrame should be passed to ```scaler.fit_transform()```.\n",
        "\n",
        "The proportion of variance explained is stored in ```pca.explained_variance_ratio_```.\n",
        "\n",
        "If using the ```cumsum()``` method of ```pca.explained_variance_ratio_```, remember that Python indexing starts at 0 so the sum of the first two components corresponds to position 1 in the array returned from ```cumsum()```."
      ]
    },
    {
      "cell_type": "code",
      "metadata": {
        "dc": {
          "key": "38"
        },
        "tags": [
          "sample_code"
        ],
        "trusted": true,
        "colab": {
          "base_uri": "https://localhost:8080/",
          "height": 296
        },
        "id": "Kdyx29q73ft9",
        "outputId": "9ba3ca46-0147-4b8a-f222-9e3b7c23600d"
      },
      "source": [
        "# Standardize and center the feature columns\n",
        "from sklearn.preprocessing import StandardScaler\n",
        "scaler = StandardScaler()\n",
        "features_scaled = scaler.fit_transform(features)\n",
        "\n",
        "# Import the PCA class function from sklearn\n",
        "from sklearn.decomposition import PCA\n",
        "pca = PCA()\n",
        "\n",
        "# Fit the standardized data to the pca\n",
        "pca.fit(features_scaled)\n",
        "\n",
        "# Plot the proportion of variance explained on the y-axis of the bar plot\n",
        "import matplotlib.pyplot as plt\n",
        "plt.bar(range(1, pca.n_components_ + 1),  pca.explained_variance_ratio_)\n",
        "plt.xlabel('Principal component #')\n",
        "plt.ylabel('Proportion of variance explained')\n",
        "plt.xticks([1, 2, 3])\n",
        "\n",
        "# Compute the cumulative proportion of variance explained by the first two principal components\n",
        "two_first_comp_var_exp = pca.explained_variance_ratio_.cumsum()[1]\n",
        "print(\"The cumulative variance of the first two principal components is {}\".format(\n",
        "    round(two_first_comp_var_exp, 5)))"
      ],
      "execution_count": 27,
      "outputs": [
        {
          "output_type": "stream",
          "name": "stdout",
          "text": [
            "The cumulative variance of the first two principal components is 0.7947\n"
          ]
        },
        {
          "output_type": "display_data",
          "data": {
            "image/png": "[encoded data removed]",
            "text/plain": [
              "<Figure size 432x288 with 1 Axes>"
            ]
          },
          "metadata": {
            "needs_background": "light"
          }
        }
      ]
    },
    {
      "cell_type": "markdown",
      "metadata": {
        "dc": {
          "key": "45"
        },
        "deletable": false,
        "editable": false,
        "run_control": {
          "frozen": true
        },
        "tags": [
          "context"
        ],
        "id": "-8wopYuB3ft9"
      },
      "source": [
        "## 7. Visualize the first two principal components\n",
        "<p>The first two principal components enable visualization of the data in two dimensions while capturing a high proportion of the variation (79%) from all three features: speeding, alcohol influence, and first-time accidents. This enables us to use our eyes to try to discern patterns in the data with the goal to find groups of similar states. Although clustering algorithms are becoming increasingly efficient, human pattern recognition is an easily accessible and very efficient method of assessing patterns in data.</p>\n",
        "<p>We will create a scatter plot of the first principle components and explore how the states cluster together in this visualization.</p>"
      ]
    },
    {
      "cell_type": "markdown",
      "metadata": {
        "id": "28CgZoFa3ft9"
      },
      "source": [
        "**HINT!**\n",
        "\n",
        "All values from an axis in a numpy array can be extracted using :. Combine this with 0 or 1 to subset ```p_comps``` for the first and second principal component, respectively.\n",
        "\n",
        "The p_comp1 code should look like this:\n",
        "```p_comp1 = p_comps[:, 0]```"
      ]
    },
    {
      "cell_type": "code",
      "metadata": {
        "dc": {
          "key": "45"
        },
        "tags": [
          "sample_code"
        ],
        "trusted": true,
        "id": "yKe2ZYbY3ft-",
        "outputId": "d3947671-2655-4bf7-b2ca-2eb07c09216e"
      },
      "source": [
        "# Transform the scaled features using two principal components\n",
        "pca = \n",
        "p_comps = ...\n",
        "\n",
        "# Extract the first and second component to use for the scatter plot\n",
        "p_comp1 = p_comps[:, 0]\n",
        "p_comp2 = p_comps[:, 1]\n",
        "\n",
        "# Plot the first two principal components in a scatter plot\n",
        "sns.scatterplot(p_comp1, p_comp2)"
      ],
      "execution_count": null,
      "outputs": [
        {
          "data": {
            "text/plain": [
              "<matplotlib.collections.PathCollection at 0x7fc9dcbc5eb8>"
            ]
          },
          "execution_count": 50,
          "metadata": {},
          "output_type": "execute_result"
        },
        {
          "data": {
            "image/png": "[encoded data removed]",
            "text/plain": [
              "<Figure size 432x288 with 1 Axes>"
            ]
          },
          "metadata": {},
          "output_type": "display_data"
        }
      ]
    },
    {
      "cell_type": "markdown",
      "metadata": {
        "dc": {
          "key": "52"
        },
        "deletable": false,
        "editable": false,
        "run_control": {
          "frozen": true
        },
        "tags": [
          "context"
        ],
        "id": "qfUtH8jC3ft-"
      },
      "source": [
        "## 8. Find clusters of similar states in the data\n",
        "<p>It was not entirely clear from the PCA scatter plot how many groups in which the states cluster. To assist with identifying a reasonable number of clusters, we can use KMeans clustering by creating a scree plot and finding the \"elbow\", which is an indication of when the addition of more clusters does not add much explanatory power.</p>"
      ]
    },
    {
      "cell_type": "markdown",
      "metadata": {
        "id": "hxCE5ytx3ft-"
      },
      "source": [
        "**HINT!**\n",
        "\n",
        "The ```k``` variable will be updated with the next value in ```ks``` for each iteration in the loop, so the setting ```n_clusters=k``` means that the clustering will be performed for all the numbers in ks. To be able to access the results after all iterations of the loop are done, the inertias are appended to a list instead of overwriting the list with each new iteration.\n",
        "\n",
        "For the line plot, use ks for the x-axis and inertias for the y-axis."
      ]
    },
    {
      "cell_type": "code",
      "metadata": {
        "dc": {
          "key": "52"
        },
        "tags": [
          "sample_code"
        ],
        "trusted": true,
        "id": "C0rCcbWQ3ft_",
        "outputId": "8eaf30f4-10aa-4078-d604-f36b115fce1e"
      },
      "source": [
        "# Import KMeans from sklearn\n",
        "from sklearn.model_selection import KMeans\n",
        "\n",
        "# A loop will be used to plot the explanatory power for up to 10 KMeans clusters\n",
        "ks = range(1, 10)\n",
        "inertias = []\n",
        "for k in ks:\n",
        "    # Initialize the KMeans object using the current number of clusters (k)\n",
        "    km = KMeans(n_clusters=k, random_state=8)\n",
        "    # Fit the scaled features to the KMeans object\n",
        "    km.fit(features_scaled)\n",
        "    # Append the inertia for `km` to the list of inertias\n",
        "    inertias.append(km)\n",
        "    \n",
        "# Plot the results in a line plot\n",
        "plt.plot(..., ..., marker='o')"
      ],
      "execution_count": null,
      "outputs": [
        {
          "data": {
            "text/plain": [
              "[<matplotlib.lines.Line2D at 0x7fc9dcb88c88>]"
            ]
          },
          "execution_count": 52,
          "metadata": {},
          "output_type": "execute_result"
        },
        {
          "data": {
            "image/png": "[encoded data removed]",
            "text/plain": [
              "<Figure size 432x288 with 1 Axes>"
            ]
          },
          "metadata": {},
          "output_type": "display_data"
        }
      ]
    },
    {
      "cell_type": "markdown",
      "metadata": {
        "dc": {
          "key": "59"
        },
        "deletable": false,
        "editable": false,
        "run_control": {
          "frozen": true
        },
        "tags": [
          "context"
        ],
        "id": "Twys2atO3ft_"
      },
      "source": [
        "## 9. KMeans to visualize clusters in the PCA scatter plot\n",
        "<p>Since there wasn't a clear elbow in the scree plot, assigning the states to either two or three clusters is a reasonable choice, and we will resume our analysis using three clusters. Let's see how the PCA scatter plot looks if we color the states according to the cluster to which they are assigned.</p>"
      ]
    },
    {
      "cell_type": "markdown",
      "metadata": {
        "id": "HW8r3ox93ft_"
      },
      "source": [
        "**HINT!**\n",
        "\n",
        "When plotting the data, use the same subsetting technique as in task 7, but instead of assigning the value to a new variable, subset the array within the call to ```plt.scatter()```.\n",
        "\n",
        "Since the order of ```km.labels_``` is the same as the order of ```p_comps```, the color of the scatter plot can be set by specifying ```c=km.labels_```. Matplotlib has both names and numbers assigned to colors, so in this case, it will use the colors '0', '1', and '2'.\n",
        "\n",
        "The plotting code should look something like this:\n",
        "\n",
        "```plt.scatter(p_comps[:, 0], p_comps[:, 1], c=km.labels_)```\n",
        "\n",
        "\n"
      ]
    },
    {
      "cell_type": "code",
      "metadata": {
        "dc": {
          "key": "59"
        },
        "tags": [
          "sample_code"
        ],
        "trusted": true,
        "id": "zCirjGUO3ft_",
        "outputId": "ce97f045-06c4-443b-f8df-ef93acec9c6a"
      },
      "source": [
        "# Create a KMeans object with 3 clusters, use random_state=8 \n",
        "km = ...\n",
        "\n",
        "# Fit the data to the `km` object\n",
        "#  ... YOUR CODE FOR TASK 9 ...\n",
        "\n",
        "# Create a scatter plot of the first two principal components\n",
        "# and color it according to the KMeans cluster assignment \n",
        "# ... YOUR CODE FOR TASK 9 ..."
      ],
      "execution_count": null,
      "outputs": [
        {
          "data": {
            "text/plain": [
              "<matplotlib.collections.PathCollection at 0x7fc9c2cbf240>"
            ]
          },
          "execution_count": 54,
          "metadata": {},
          "output_type": "execute_result"
        },
        {
          "data": {
            "image/png": "[encoded data removed]",
            "text/plain": [
              "<Figure size 432x288 with 1 Axes>"
            ]
          },
          "metadata": {},
          "output_type": "display_data"
        }
      ]
    },
    {
      "cell_type": "markdown",
      "metadata": {
        "dc": {
          "key": "66"
        },
        "deletable": false,
        "editable": false,
        "run_control": {
          "frozen": true
        },
        "tags": [
          "context"
        ],
        "id": "weizMIRV3fuA"
      },
      "source": [
        "## 10. Visualize the feature differences between the clusters\n",
        "<p>Thus far, we have used both our visual interpretation of the data and the KMeans clustering algorithm to reveal patterns in the data, but what do these patterns mean?</p>\n",
        "<p>Remember that the information we have used to cluster the states into three distinct groups are the percentage of drivers speeding, under alcohol influence and that has not previously been involved in an accident. We used these clusters to visualize how the states group together when considering the first two principal components. This is good for us to understand structure in the data, but not always easy to understand, especially not if the findings are to be communicated to a non-specialist audience.</p>\n",
        "<p>A reasonable next step in our analysis is to explore how the three clusters are different in terms of the three features that we used for clustering. Instead of using the scaled features, we return to using the unscaled features to help us interpret the differences.</p>"
      ]
    },
    {
      "cell_type": "markdown",
      "metadata": {
        "id": "YhcwBeEU3fuA"
      },
      "source": [
        "**HINT!**\n",
        "\n",
        "Just as in the previous task, remember that the order of ```km.labels_``` is the same as the order of observations in the DataFrame. Therefore, ```km.labels_ ```can be assigned to ```car_acc['cluster']``` without worrying about reordering the values.\n",
        "\n",
        "Use pd.melt? to see how to specify the arguments for this functions. Importantly, the DataFrame is passed as an unnamed argument, while the remaining arguments are passed to named parameters. An example of how this could look would be something like this (note that the words surrounded by [ and ] need to be replaced by the correct variable or column names):\n",
        "\n",
        "```pd.melt(car_acc, id_vars='<name_of_cluster_column>', var_name='<name_of_measurement_column>', ```\n",
        "        ```value_name='<name_of_percent_column>', value_vars=<list_of_the_three_feature_columns>)```"
      ]
    },
    {
      "cell_type": "code",
      "metadata": {
        "dc": {
          "key": "66"
        },
        "tags": [
          "sample_code"
        ],
        "trusted": true,
        "id": "qiVqaXBG3fuA",
        "outputId": "2d229fac-60e0-455b-8491-3b2cda6aafe1"
      },
      "source": [
        "# Read in the new dataset\n",
        "miles_driven = pd.read_csv('datasets/miles-driven.csv', sep='|')\n",
        "\n",
        "# Merge the `car_acc` DataFrame with the `miles_driven` DataFrame\n",
        "car_acc_miles = carr_acc.merge(...)\n",
        "\n",
        "# Create a new column for the number of drivers involved in fatal accidents\n",
        "car_acc_miles['num_drvr_fatl_col'] = ...\n",
        "\n",
        "# Create a barplot of the total number of accidents per cluster\n",
        "sns.barplot(x=..., y=..., data=..., estimator=..., ci=None)\n",
        "\n",
        "# Calculate the number of states in each cluster and their 'num_drvr_fatl_col' mean and sum.\n",
        "count_mean_sum = ...\n",
        "count_mean_sum"
      ],
      "execution_count": null,
      "outputs": [
        {
          "data": {
            "text/plain": [
              "<matplotlib.axes._subplots.AxesSubplot at 0x7fc9df6f1128>"
            ]
          },
          "execution_count": 56,
          "metadata": {},
          "output_type": "execute_result"
        }
      ]
    },
    {
      "cell_type": "markdown",
      "metadata": {
        "dc": {
          "key": "73"
        },
        "deletable": false,
        "editable": false,
        "run_control": {
          "frozen": true
        },
        "tags": [
          "context"
        ],
        "id": "CO7R23GH3fuA"
      },
      "source": [
        "## 11. Compute the number of accidents within each cluster\n",
        "<p>Now it is clear that different groups of states may require different interventions. Since resources and time are limited, it is useful to start off with an intervention in one of the three groups first. Which group would this be? To determine this, we will include data on how many miles are driven in each state, because this will help us to compute the total number of fatal accidents in each state. Data on miles driven is available in another tab-delimited text file. We will assign this new information to a column in the DataFrame and create a violin plot for how many total fatal traffic accidents there are within each state cluster.</p>"
      ]
    },
    {
      "cell_type": "markdown",
      "metadata": {
        "id": "8VUaZPzD3fuB"
      },
      "source": [
        "**HINT!**\n",
        "\n",
        "```pd.merge()``` has an on parameter that can be used to specify which column to merge the datasets on. Specifying this as ```'state'``` ensures that the values for the states line up when merging even if the two DataFrames are not in the same order.\n",
        "\n",
        "For the new column ```'num_drvr_fatl_col'``` remember to divide by 1000 to convert from billions to millions.\n",
        "\n",
        "To perform multiple aggregations with the ```agg()``` method, pass the aggregations as a list, e.g., ```['count', 'mean', 'sum']```.\n",
        "\n",
        "For the barplot, the total number of accidents per cluster can be found by setting ```estimator=sum```."
      ]
    },
    {
      "cell_type": "code",
      "metadata": {
        "dc": {
          "key": "73"
        },
        "tags": [
          "sample_code"
        ],
        "trusted": true,
        "id": "x3jgG1mq3fuB"
      },
      "source": [
        "# Read in the `miles-drives.csv`\n",
        "miles_driven = pd.read_csv('datasets/miles-driven.csv', sep='|')\n",
        "\n",
        "# Merge the `car_acc` DataFrame with the `miles_driven` DataFrame\n",
        "car_acc_miles = car_acc.merge(miles_driven, on='state')\n",
        "\n",
        "# Create a new column for the number of drivers involved in fatal accidents\n",
        "car_acc_miles['num_drvr_fatl_col'] = car_acc_miles['drvr_fatl_col_bmiles'] * car_acc_miles['million_miles_annually'] / 1000\n",
        "\n",
        "# Create a barplot of the total number of accidents per cluster\n",
        "sns.barplot(x='cluster', y='num_drvr_fatl_col', data=car_acc_miles, estimator=sum, ci=None)\n",
        "\n",
        "# Calculate the number of states in each cluster and their 'num_drvr_fatl_col' mean and sum.\n",
        "count_mean_sum = car_acc_miles.groupby('cluster')['num_drvr_fatl_col'].agg(['count', 'mean', 'sum'])\n",
        "count_mean_sum"
      ],
      "execution_count": null,
      "outputs": []
    },
    {
      "cell_type": "markdown",
      "metadata": {
        "dc": {
          "key": "80"
        },
        "deletable": false,
        "editable": false,
        "run_control": {
          "frozen": true
        },
        "tags": [
          "context"
        ],
        "id": "CGIWsXop3fuB"
      },
      "source": [
        "## 12. Make a decision when there is no clear right choice\n",
        "<p>As we can see, there is no obvious correct choice regarding which cluster is the most important to focus on. Yet, we can still argue for a certain cluster and motivate this using our findings above. Which cluster do you think should be a focus for policy intervention and further investigation?</p>"
      ]
    },
    {
      "cell_type": "code",
      "metadata": {
        "collapsed": true,
        "dc": {
          "key": "80"
        },
        "tags": [
          "sample_code"
        ],
        "trusted": true,
        "id": "Xzm_IQjn3fuB"
      },
      "source": [
        "# Which cluster would you choose?\n",
        "cluster_num = ..."
      ],
      "execution_count": null,
      "outputs": []
    }
  ]
}